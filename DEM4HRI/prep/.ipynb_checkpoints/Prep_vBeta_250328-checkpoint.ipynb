{
 "cells": [
  {
   "cell_type": "code",
   "execution_count": null,
   "id": "c1d48ae3",
   "metadata": {},
   "outputs": [],
   "source": [
    "trf_fts = fits.open(\"./gof_hri_174_sun_coronal_2021_chianti.abund_chianti.ioneq_synthetic.fits\")\n",
    "\n",
    "trf = trf_fts[0].data\n",
    "# hd = trf_fts[0].header\n",
    "sv = np.array(trf[1] * 1e-8, dtype=np.float64)\n",
    "#norm [-30,-23] to [0,1]\n",
    "sv = np.log10(sv)\n",
    "sv = (sv+30)/(30-23)\n",
    "\n",
    "# print(sv.shape)\n",
    "# print(type(sv[0]))\n",
    "\n",
    "np.save('./TRF/174.npy', sv)\n",
    "\n"
   ]
  },
  {
   "cell_type": "code",
   "execution_count": null,
   "id": "d08ac9f0",
   "metadata": {},
   "outputs": [],
   "source": [
    "\n",
    "import os\n",
    "import numpy as np\n",
    "import astropy.io.fits as fits\n",
    "# from astropy.visualization import ImageNormalize, AsinhStretch\n",
    "from glob import glob\n",
    "from tqdm import tqdm\n",
    "\n",
    "hri_list = glob('./174_L2/*.fits')\n",
    "data_num = len(hri_list)\n",
    "\n",
    "print(data_num)\n",
    "\n",
    "for i in tqdm(range(data_num)):\n",
    "\n",
    "    img = fits.open(hri_list[i])\n",
    "    dat = img[1].data\n",
    "    hdr = img[1].header\n",
    "    \n",
    "    data_name = hri_list[i].split('/')[-1].split('.')[0]\n",
    "    \n",
    "    dat[dat<0] = 0\n",
    "    data = np.nan_to_num(dat)\n",
    "\n",
    "    dsun = hdr[\"DSUN_OBS\"]  # 태양과의 거리 (단위: m)\n",
    "    au = 1.496e11  # 1 AU (m)\n",
    "    \n",
    "    correction_factor = (dsun / au)**2  # Conrrection factor to 1 AU\n",
    "    data_corrected = data * correction_factor\n",
    "\n",
    "    UpLim = 15\n",
    "    LoLim = 0\n",
    "\n",
    "    log2_data = np.log2(data_corrected + 1) # log2\n",
    "    log2_data = (np.clip(log2_data, LoLim, UpLim) - (UpLim-LoLim))/((UpLim-LoLim)) #normalize to 0~1\n",
    "    log2_data = np.float32(log2_data)   # float32\n",
    "\n",
    "    np.save(f'./HRI/174_L2_npy/174/{data_name}.npy', log2_data)\n",
    "    if i % 100 == 0:\n",
    "        print(data_name, f\"{i}/{data_num}\")\n"
   ]
  }
 ],
 "metadata": {
  "kernelspec": {
   "display_name": "Python 3 (ipykernel)",
   "language": "python",
   "name": "python3"
  },
  "language_info": {
   "codemirror_mode": {
    "name": "ipython",
    "version": 3
   },
   "file_extension": ".py",
   "mimetype": "text/x-python",
   "name": "python",
   "nbconvert_exporter": "python",
   "pygments_lexer": "ipython3",
   "version": "3.7.16"
  }
 },
 "nbformat": 4,
 "nbformat_minor": 5
}
