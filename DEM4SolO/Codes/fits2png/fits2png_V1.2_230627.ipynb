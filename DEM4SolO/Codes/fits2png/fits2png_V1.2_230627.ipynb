{
 "cells": [
  {
   "cell_type": "code",
   "execution_count": 1,
   "id": "dca478bc",
   "metadata": {},
   "outputs": [],
   "source": [
    "from glob import glob\n",
    "import numpy as np\n",
    "import astropy.io.fits as fits\n",
    "import cv2\n",
    "from skimage.transform import resize\n",
    "\n",
    "\n",
    "import sunpy.visualization.colormaps as cm\n",
    "import matplotlib.pyplot as plt\n",
    "%matplotlib inline\n",
    "\n",
    "from tqdm import tqdm\n",
    "import warnings\n",
    "warnings.filterwarnings(action='ignore')"
   ]
  },
  {
   "cell_type": "code",
   "execution_count": 2,
   "id": "e6aea505",
   "metadata": {},
   "outputs": [
    {
     "name": "stdout",
     "output_type": "stream",
     "text": [
      "5\n"
     ]
    },
    {
     "name": "stderr",
     "output_type": "stream",
     "text": [
      " 20%|███████████████████████████████████████████████████▌                                                                                                                                                                                                              | 1/5 [00:00<00:00,  7.33it/s]"
     ]
    },
    {
     "name": "stdout",
     "output_type": "stream",
     "text": [
      "/2011-01-01T00\n"
     ]
    },
    {
     "name": "stderr",
     "output_type": "stream",
     "text": [
      "100%|██████████████████████████████████████████████████████████████████████████████████████████████████████████████████████████████████████████████████████████████████████████████████████████████████████████████████████████████████████████████████████████████████| 5/5 [00:00<00:00,  9.08it/s]\n"
     ]
    }
   ],
   "source": [
    "input_folder = '/userhome/youn_j/Dataset/EUV/AIA_prepV7/094/'\n",
    "output_folder = '/userhome/youn_j/Dataset/test2_0627/'\n",
    "file_path = input_folder+'*.fits'\n",
    "file_name = sorted(glob(file_path)) \n",
    "series = len(file_name)\n",
    "\n",
    "# print(file_name[])\n",
    "print(series)\n",
    "\n",
    "isize = 512\n",
    "# data = '/userhome/youn_j/Code/AIA_set/Prep/AIA_PrepV3_230328/094/2014-06-10T000000_94.fits'\n",
    "for i in tqdm(range(series)):\n",
    "\n",
    "    fits_data = fits.open(file_name[i])\n",
    "    image = fits_data[0].data\n",
    "    \n",
    "    #Restore normalization\n",
    "    image = (2**(image*7+7))-1\n",
    "    \n",
    "    \n",
    "    # ===========\n",
    "    _max = np.max(image)\n",
    "    _min = np.min(image)\n",
    "    _med = np.median(image)\n",
    "    #_half = _med - _min\n",
    "    \n",
    "    #print(np.max(image))\n",
    "    #print(np.median(image))\n",
    "    #print(np.min(image))\n",
    "    \n",
    "    image = (255/2)*((image + abs(_min))/(2*_med))\n",
    "    \n",
    "    \n",
    "    # factor = 255\n",
    "    # image = (image + 1)*factor\n",
    "    \n",
    "    \n",
    "    image = resize(image, (isize, isize), order = 3, mode='constant', preserve_range=True)\n",
    "    image = cv2.flip(image, 0)\n",
    "    \n",
    "    if i % 100 == 0:\n",
    "        print(file_name[i][-26:-12])\n",
    "    cv2.imwrite(output_folder + file_name[i][-26:-12]+ '.png', image)"
   ]
  },
  {
   "cell_type": "code",
   "execution_count": null,
   "id": "76662317",
   "metadata": {},
   "outputs": [],
   "source": []
  }
 ],
 "metadata": {
  "kernelspec": {
   "display_name": "Python 3 (ipykernel)",
   "language": "python",
   "name": "python3"
  },
  "language_info": {
   "codemirror_mode": {
    "name": "ipython",
    "version": 3
   },
   "file_extension": ".py",
   "mimetype": "text/x-python",
   "name": "python",
   "nbconvert_exporter": "python",
   "pygments_lexer": "ipython3",
   "version": "3.10.8"
  }
 },
 "nbformat": 4,
 "nbformat_minor": 5
}
